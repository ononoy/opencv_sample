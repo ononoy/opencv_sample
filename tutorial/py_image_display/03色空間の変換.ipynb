{
 "cells": [
  {
   "cell_type": "markdown",
   "metadata": {},
   "source": [
    "# 色変換の変換"
   ]
  },
  {
   "cell_type": "markdown",
   "metadata": {},
   "source": [
    "OpenCVは150種類以上の色空間の変換を用意しているが，その中で最も広く使われている変換方法は、BGR \\leftrightarrow Gray変換とBGR \\leftrightarrow HSV変換である。この２つを詳しく見ていく．\n",
    "\n",
    "色変換に使う関数は cv2.cvtColor(image, flag) である．ここで imageは画像データ、flag は色変換の種類を指定するフラグである．\n",
    "\n",
    "BGR \\rightarrow Gray変換には cv2.COLOR_BGR2GRAY フラグ，BGR \\rightarrow HSV変換には cv2.COLOR_BGR2HSV フラグを指定する．その他のフラグは，次のコマンドを実行すれば表示される :\n",
    "\n"
   ]
  },
  {
   "cell_type": "code",
   "execution_count": 2,
   "metadata": {},
   "outputs": [
    {
     "name": "stdout",
     "output_type": "stream",
     "text": [
      "['COLOR_BAYER_BG2BGR', 'COLOR_BAYER_BG2BGR_EA', 'COLOR_BAYER_BG2BGR_VNG', 'COLOR_BAYER_BG2GRAY', 'COLOR_BAYER_BG2RGB']\n"
     ]
    }
   ],
   "source": [
    "import cv2\n",
    "flags = [i for i in dir(cv2) if i.startswith('COLOR_')]\n",
    "print(flags[:5])"
   ]
  },
  {
   "cell_type": "markdown",
   "metadata": {},
   "source": [
    "Note HSVとは，Hueが色相，Saturation(Chroma)が彩度，Value(Lightness)が明度である．それぞれHueは[0,179], Saturationは[0,255]，Valueは[0,255]の範囲の値をとるが、使用するソフトウェアによっては値の範囲が異なるので，OpenCVで得られた値と別ソフトウェアで得られた値を比較する場合は，値の正規化をしなければならない．"
   ]
  },
  {
   "cell_type": "markdown",
   "metadata": {},
   "source": [
    "# 物体追跡"
   ]
  },
  {
   "cell_type": "markdown",
   "metadata": {},
   "source": [
    "BGR画像をHSV画像へ変換する方法を学んだので，この方法を使って特定の色を持つ物体の検出ができるようになる．HSV空間では，RGB空間より色を表現するのが簡単だからである．ここでは青色をした物体の検出を試みよう．処理の流れは以下のようになる:\n",
    "\n",
    "動画のフレーム(画像)を取得\n",
    "画像をBGR空間からHSV空間へ色変換\n",
    "HSV空間上で，青色に対応する領域を閾値処理により見つける\n",
    "青色の物体だけを検出できたので、それに対して好きな処理ができる\n"
   ]
  },
  {
   "cell_type": "code",
   "execution_count": 3,
   "metadata": {},
   "outputs": [
    {
     "ename": "KeyboardInterrupt",
     "evalue": "",
     "output_type": "error",
     "traceback": [
      "\u001b[0;31m---------------------------------------------------------------------------\u001b[0m",
      "\u001b[0;31mKeyboardInterrupt\u001b[0m                         Traceback (most recent call last)",
      "\u001b[0;32m<ipython-input-3-e97937ff7373>\u001b[0m in \u001b[0;36m<module>\u001b[0;34m()\u001b[0m\n\u001b[1;32m     25\u001b[0m     \u001b[0mcv2\u001b[0m\u001b[0;34m.\u001b[0m\u001b[0mimshow\u001b[0m\u001b[0;34m(\u001b[0m\u001b[0;34m'mask'\u001b[0m\u001b[0;34m,\u001b[0m\u001b[0mmask\u001b[0m\u001b[0;34m)\u001b[0m\u001b[0;34m\u001b[0m\u001b[0m\n\u001b[1;32m     26\u001b[0m     \u001b[0mcv2\u001b[0m\u001b[0;34m.\u001b[0m\u001b[0mimshow\u001b[0m\u001b[0;34m(\u001b[0m\u001b[0;34m'res'\u001b[0m\u001b[0;34m,\u001b[0m\u001b[0mres\u001b[0m\u001b[0;34m)\u001b[0m\u001b[0;34m\u001b[0m\u001b[0m\n\u001b[0;32m---> 27\u001b[0;31m     \u001b[0mk\u001b[0m \u001b[0;34m=\u001b[0m \u001b[0mcv2\u001b[0m\u001b[0;34m.\u001b[0m\u001b[0mwaitKey\u001b[0m\u001b[0;34m(\u001b[0m\u001b[0;36m5\u001b[0m\u001b[0;34m)\u001b[0m \u001b[0;34m&\u001b[0m \u001b[0;36m0xFF\u001b[0m\u001b[0;34m\u001b[0m\u001b[0m\n\u001b[0m\u001b[1;32m     28\u001b[0m     \u001b[0;32mif\u001b[0m \u001b[0mk\u001b[0m \u001b[0;34m==\u001b[0m \u001b[0;36m27\u001b[0m\u001b[0;34m:\u001b[0m\u001b[0;34m\u001b[0m\u001b[0m\n\u001b[1;32m     29\u001b[0m         \u001b[0;32mbreak\u001b[0m\u001b[0;34m\u001b[0m\u001b[0m\n",
      "\u001b[0;31mKeyboardInterrupt\u001b[0m: "
     ]
    }
   ],
   "source": [
    "import cv2\n",
    "import numpy as np\n",
    "\n",
    "cap = cv2.VideoCapture(0)\n",
    "\n",
    "while(1):\n",
    "\n",
    "    # 一フレーム取り出す\n",
    "    _, frame = cap.read()\n",
    "\n",
    "    # BGR空間から HSV空間に変換\n",
    "    hsv = cv2.cvtColor(frame, cv2.COLOR_BGR2HSV)\n",
    "\n",
    "    # HSV空間で青色の範囲を定義\n",
    "    lower_blue = np.array([110,50,50])\n",
    "    upper_blue = np.array([130,255,255])\n",
    "\n",
    "    # HSV イメージから青い物体だけを取り出すための閾値\n",
    "    mask = cv2.inRange(hsv, lower_blue, upper_blue)\n",
    "\n",
    "    # ビットごとのAND演算で元画像をマスク\n",
    "    res = cv2.bitwise_and(frame,frame, mask= mask)\n",
    "\n",
    "    cv2.imshow('frame',frame)\n",
    "    cv2.imshow('mask',mask)\n",
    "    cv2.imshow('res',res)\n",
    "    k = cv2.waitKey(5) & 0xFF\n",
    "    if k == 27:\n",
    "        break\n",
    "\n",
    "cv2.destroyAllWindows()"
   ]
  },
  {
   "cell_type": "markdown",
   "metadata": {},
   "source": [
    "Note 画像中にいくつかノイズが見えるが、このノイズの消し方は後のチュートリアルで紹介する．\n",
    "\n",
    "Note ここで紹介した方法は物体追跡の最も単純な方法である．輪郭処理に関する関数の使用方法を学べば，物体の重心位置を計算したり、カメラの前で手を振って図形を描くなど、いろいろな処理が行えるようになる．"
   ]
  },
  {
   "cell_type": "markdown",
   "metadata": {},
   "source": [
    "# 追跡すべき色(HSV)を調べる方法"
   ]
  },
  {
   "cell_type": "markdown",
   "metadata": {},
   "source": [
    "stackoverflow.com(技術者の質問サイト)でよく見る質問の一つがこれである．これはとても簡単で、まさに画像の色変換を行う cv2.cvtColor() 関数で実現できる。画像データを引数とする代わりに、特定の色の値(BGR値)を引数とすればよいのである。例えば，緑色に対応するHSVでの色を知りたければ，Pythonのターミナル上で次のようにコマンドを実行すればよい"
   ]
  },
  {
   "cell_type": "code",
   "execution_count": 2,
   "metadata": {},
   "outputs": [
    {
     "name": "stdout",
     "output_type": "stream",
     "text": [
      "[[[ 60 255 255]]]\n"
     ]
    }
   ],
   "source": [
    "import cv2\n",
    "import numpy as np\n",
    "green = np.uint8([[[0,255,0 ]]])\n",
    "hsv_green = cv2.cvtColor(green,cv2.COLOR_BGR2HSV)\n",
    "print(hsv_green)"
   ]
  },
  {
   "cell_type": "markdown",
   "metadata": {},
   "source": [
    "これにより、下界と上界の値をそれぞれ [H-10, 100,100]と[H+10, 255, 255] に設定すればいいことが分かる．なおこれ以外の方法，例えばGIMPのような画像編集ソフトを使っても色相の値を調べらることができる．ただし，(前に注意したように！)OpenCVが設定している色相の範囲に正規化する必要があることをお忘れなく．\n",
    "\n",
    "Note このような答え方だとやはりstackoverflow.comに頼る人が出てくるだろう。HSVでは色はHueの値でほぼ決まるので、緑の場合Hue値の下限は60-10=50, 上限は60+10=70くらいとする。S値とV値は大きい方が鮮やかで明るくなり、小さいと黒くなるので、普通の色を考えているのであれば大きい値のほうがよい。その意味で[50,100,100]が下限、[70,255,255]が上限と答えているのである。なお、このサイトなどでも色を確かめることができる。"
   ]
  },
  {
   "cell_type": "code",
   "execution_count": null,
   "metadata": {
    "collapsed": true
   },
   "outputs": [],
   "source": []
  }
 ],
 "metadata": {
  "kernelspec": {
   "display_name": "Python 3",
   "language": "python",
   "name": "python3"
  },
  "language_info": {
   "codemirror_mode": {
    "name": "ipython",
    "version": 3
   },
   "file_extension": ".py",
   "mimetype": "text/x-python",
   "name": "python",
   "nbconvert_exporter": "python",
   "pygments_lexer": "ipython3",
   "version": "3.5.3"
  }
 },
 "nbformat": 4,
 "nbformat_minor": 2
}
